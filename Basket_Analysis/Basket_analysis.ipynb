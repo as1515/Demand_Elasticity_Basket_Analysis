{
 "cells": [
  {
   "cell_type": "code",
   "execution_count": 20,
   "id": "ca339a8a",
   "metadata": {},
   "outputs": [],
   "source": [
    "import pandas as pd\n",
    "import numpy as np\n",
    "import psycopg2\n",
    "from sqlalchemy import create_engine\n",
    "from itertools import chain\n",
    "from itertools import combinations\n",
    "from scipy.sparse import csr_matrix"
   ]
  },
  {
   "cell_type": "code",
   "execution_count": 3,
   "id": "637e8aaf",
   "metadata": {},
   "outputs": [],
   "source": [
    "product_list = pd.read_excel('shipment_linear.xlsx', engine = 'openpyxl')\n",
    "product_codes = product_list['Code'].tolist()"
   ]
  },
  {
   "cell_type": "code",
   "execution_count": 37,
   "id": "3b6f5b92",
   "metadata": {},
   "outputs": [],
   "source": [
    "db_config = {'user': 'XXXXXX','password': 'XXXXXX','host': 'XXXXXX','port': '5432', 'database': 'XXXXXX'}\n",
    "engine = create_engine(f\"postgresql+psycopg2://{db_config['user']}:{db_config['password']}@{db_config['host']}:{db_config['port']}/{db_config['database']}\")\n",
    "query = f\"\"\"\n",
    "    SELECT imtrn.xitem, imtrn.xyear,imtrn.xdocnum, imtrn.xqty\n",
    "    FROM imtrn \n",
    "    JOIN caitem\n",
    "    ON imtrn.xitem = caitem.xitem\n",
    "    JOIN opddt\n",
    "    ON imtrn.xdocnum = opddt.xdornum AND imtrn.xitem = opddt.xcode\n",
    "    WHERE imtrn.zid = 100001\n",
    "    AND caitem.zid = 100001\n",
    "    AND opddt.zid = 100001\n",
    "    \"\"\"\n",
    "sales_data = pd.read_sql(query, con=engine)\n",
    "sales_data = sales_data[sales_data['xyear']>=2023]"
   ]
  },
  {
   "cell_type": "code",
   "execution_count": 38,
   "id": "97ca38cf",
   "metadata": {},
   "outputs": [],
   "source": [
    "grouped_data = sales_data.groupby('xdocnum')['xitem'].apply(list).reset_index()\n",
    "grouped_data.columns = ['InvoiceID', 'Items']"
   ]
  },
  {
   "cell_type": "code",
   "execution_count": 39,
   "id": "73e39321",
   "metadata": {},
   "outputs": [
    {
     "data": {
      "text/html": [
       "<div>\n",
       "<style scoped>\n",
       "    .dataframe tbody tr th:only-of-type {\n",
       "        vertical-align: middle;\n",
       "    }\n",
       "\n",
       "    .dataframe tbody tr th {\n",
       "        vertical-align: top;\n",
       "    }\n",
       "\n",
       "    .dataframe thead th {\n",
       "        text-align: right;\n",
       "    }\n",
       "</style>\n",
       "<table border=\"1\" class=\"dataframe\">\n",
       "  <thead>\n",
       "    <tr style=\"text-align: right;\">\n",
       "      <th></th>\n",
       "      <th>InvoiceID</th>\n",
       "      <th>Items</th>\n",
       "    </tr>\n",
       "  </thead>\n",
       "  <tbody>\n",
       "    <tr>\n",
       "      <th>0</th>\n",
       "      <td>DO--155128</td>\n",
       "      <td>[1780]</td>\n",
       "    </tr>\n",
       "    <tr>\n",
       "      <th>1</th>\n",
       "      <td>DO--155139</td>\n",
       "      <td>[1675]</td>\n",
       "    </tr>\n",
       "    <tr>\n",
       "      <th>2</th>\n",
       "      <td>DO--155140</td>\n",
       "      <td>[1714, 1131, 1522, 1576, 1419, 1528, 1624]</td>\n",
       "    </tr>\n",
       "    <tr>\n",
       "      <th>3</th>\n",
       "      <td>DO--155141</td>\n",
       "      <td>[1744]</td>\n",
       "    </tr>\n",
       "    <tr>\n",
       "      <th>4</th>\n",
       "      <td>DO--155142</td>\n",
       "      <td>[1455]</td>\n",
       "    </tr>\n",
       "    <tr>\n",
       "      <th>...</th>\n",
       "      <td>...</td>\n",
       "      <td>...</td>\n",
       "    </tr>\n",
       "    <tr>\n",
       "      <th>320953</th>\n",
       "      <td>DO--476241</td>\n",
       "      <td>[1185, 16081, 16102, 12933]</td>\n",
       "    </tr>\n",
       "    <tr>\n",
       "      <th>320954</th>\n",
       "      <td>DO--476242</td>\n",
       "      <td>[2110, 1726]</td>\n",
       "    </tr>\n",
       "    <tr>\n",
       "      <th>320955</th>\n",
       "      <td>DO--476243</td>\n",
       "      <td>[14875]</td>\n",
       "    </tr>\n",
       "    <tr>\n",
       "      <th>320956</th>\n",
       "      <td>DO--476244</td>\n",
       "      <td>[1851]</td>\n",
       "    </tr>\n",
       "    <tr>\n",
       "      <th>320957</th>\n",
       "      <td>DO--476245</td>\n",
       "      <td>[14320, 1703, 14310]</td>\n",
       "    </tr>\n",
       "  </tbody>\n",
       "</table>\n",
       "<p>320958 rows × 2 columns</p>\n",
       "</div>"
      ],
      "text/plain": [
       "         InvoiceID                                       Items\n",
       "0       DO--155128                                      [1780]\n",
       "1       DO--155139                                      [1675]\n",
       "2       DO--155140  [1714, 1131, 1522, 1576, 1419, 1528, 1624]\n",
       "3       DO--155141                                      [1744]\n",
       "4       DO--155142                                      [1455]\n",
       "...            ...                                         ...\n",
       "320953  DO--476241                 [1185, 16081, 16102, 12933]\n",
       "320954  DO--476242                                [2110, 1726]\n",
       "320955  DO--476243                                     [14875]\n",
       "320956  DO--476244                                      [1851]\n",
       "320957  DO--476245                        [14320, 1703, 14310]\n",
       "\n",
       "[320958 rows x 2 columns]"
      ]
     },
     "execution_count": 39,
     "metadata": {},
     "output_type": "execute_result"
    }
   ],
   "source": [
    "grouped_data"
   ]
  },
  {
   "cell_type": "code",
   "execution_count": 40,
   "id": "d9f8ccd3",
   "metadata": {},
   "outputs": [],
   "source": [
    "all_items = list(chain(*grouped_data['Items']))\n",
    "unique_items = list(set(all_items))"
   ]
  },
  {
   "cell_type": "code",
   "execution_count": 41,
   "id": "10c1d405",
   "metadata": {},
   "outputs": [],
   "source": [
    "basket_matrix = pd.DataFrame(\n",
    "    [[item in items for item in unique_items] for items in grouped_data['Items']],\n",
    "    columns=unique_items\n",
    ")\n",
    "\n",
    "# item_to_idx = {item: idx for idx, item in enumerate(unique_items)}\n",
    "\n",
    "# row_indices = []\n",
    "# col_indices = []\n",
    "\n",
    "# for idx, items in enumerate(grouped_data['Items']):\n",
    "#     for item in items:\n",
    "#         row_indices.append(idx)\n",
    "#         col_indices.append(item_to_idx[item])\n",
    "\n",
    "# # Using sparse matrix\n",
    "# basket_sparse = csr_matrix((np.ones(len(row_indices)), (row_indices, col_indices)), shape=(len(grouped_data), len(unique_items)))"
   ]
  },
  {
   "cell_type": "code",
   "execution_count": 42,
   "id": "c3b21cd4",
   "metadata": {},
   "outputs": [],
   "source": [
    "support_item = basket_matrix.mean()"
   ]
  },
  {
   "cell_type": "code",
   "execution_count": 43,
   "id": "895b8c1d",
   "metadata": {},
   "outputs": [],
   "source": [
    "pair_support = {}\n",
    "for item1, item2 in combinations(unique_items, 2):\n",
    "    pair_support[(item1, item2)] = basket_matrix[item1].mul(basket_matrix[item2]).mean()\n",
    "    \n",
    "\n",
    "# pair_support = {}\n",
    "\n",
    "# for item1, item2 in combinations(range(len(unique_items)), 2):\n",
    "#     dot product\n",
    "#     support_count = basket_sparse[:, item1].multiply(basket_sparse[:, item2]).sum()\n",
    "#     pair_support[(unique_items[item1], unique_items[item2])] = support_count / basket_sparse.shape[0]"
   ]
  },
  {
   "cell_type": "code",
   "execution_count": 44,
   "id": "a6fd52c6",
   "metadata": {},
   "outputs": [],
   "source": [
    "rules = []\n",
    "\n",
    "for (item1, item2), support_pair in pair_support.items():\n",
    "    if support_pair > 0:\n",
    "\n",
    "        confidence_item1_to_item2 = support_pair / support_item[item1]\n",
    "        lift_item1_to_item2 = confidence_item1_to_item2 / support_item[item2]\n",
    "\n",
    "        rules.append({\n",
    "            'Antecedent': item1,\n",
    "            'Consequent': item2,\n",
    "            'Support': support_pair,\n",
    "            'Confidence': confidence_item1_to_item2,\n",
    "            'Lift': lift_item1_to_item2\n",
    "        })\n",
    "\n",
    "# Convert rules list to DataFrame\n",
    "rules_df = pd.DataFrame(rules)"
   ]
  },
  {
   "cell_type": "code",
   "execution_count": 27,
   "id": "8bdd3394",
   "metadata": {},
   "outputs": [],
   "source": [
    "# rules_df.to_excel('item_basket.xlsx')"
   ]
  },
  {
   "cell_type": "code",
   "execution_count": 49,
   "id": "460b7a8b",
   "metadata": {},
   "outputs": [],
   "source": [
    "#Find the mean number of products bought per invoice\n",
    "grouped_data['ItemCount'] = grouped_data['Items'].apply(len)\n",
    "mean_items_per_invoice = round(grouped_data['ItemCount'].mean())"
   ]
  },
  {
   "cell_type": "code",
   "execution_count": 50,
   "id": "477984a1",
   "metadata": {},
   "outputs": [],
   "source": [
    "top_4_per_product = rules_df.sort_values(by=['Antecedent', 'Lift'], ascending=[True, False]).groupby('Antecedent').head(mean_items_per_invoice)"
   ]
  },
  {
   "cell_type": "code",
   "execution_count": 55,
   "id": "8d2da473",
   "metadata": {},
   "outputs": [],
   "source": [
    "top_4_per_product = top_4_per_product[top_4_per_product['Antecedent'].isin(product_codes)]"
   ]
  },
  {
   "cell_type": "code",
   "execution_count": 56,
   "id": "70962107",
   "metadata": {},
   "outputs": [],
   "source": [
    "results = []\n",
    "\n",
    "for _, row in top_4_per_product.iterrows():\n",
    "    antecedent = row['Antecedent']\n",
    "    consequent = row['Consequent']\n",
    "    \n",
    "    # Filter transactions where both antecedent and consequent are present\n",
    "    joint_transactions = sales_data[sales_data['xitem'].isin([antecedent, consequent])]\n",
    "    joint_invoice_ids = joint_transactions.groupby('xdocnum').filter(lambda x: set([antecedent, consequent]).issubset(set(x['xitem']))).xdocnum.unique()\n",
    "    \n",
    "    joint_sales = sales_data[sales_data['xdocnum'].isin(joint_invoice_ids)]\n",
    "    \n",
    "    antecedent_qty = joint_sales[joint_sales['xitem'] == antecedent]['xqty'].sum()\n",
    "    consequent_qty = joint_sales[joint_sales['xitem'] == consequent]['xqty'].sum()\n",
    "    sales_ratio = consequent_qty / antecedent_qty if antecedent_qty > 0 else None\n",
    "    \n",
    "    # Append results\n",
    "    results.append({\n",
    "        'Antecedent': antecedent,\n",
    "        'Consequent': consequent,\n",
    "        'JointAntecedentQty': antecedent_qty,\n",
    "        'JointConsequentQty': consequent_qty,\n",
    "        'SalesRatio': sales_ratio\n",
    "    })\n",
    "\n",
    "joint_sales_ratio_df = pd.DataFrame(results)\n"
   ]
  },
  {
   "cell_type": "code",
   "execution_count": 68,
   "id": "cc566f0d",
   "metadata": {},
   "outputs": [
    {
     "data": {
      "text/html": [
       "<div>\n",
       "<style scoped>\n",
       "    .dataframe tbody tr th:only-of-type {\n",
       "        vertical-align: middle;\n",
       "    }\n",
       "\n",
       "    .dataframe tbody tr th {\n",
       "        vertical-align: top;\n",
       "    }\n",
       "\n",
       "    .dataframe thead th {\n",
       "        text-align: right;\n",
       "    }\n",
       "</style>\n",
       "<table border=\"1\" class=\"dataframe\">\n",
       "  <thead>\n",
       "    <tr style=\"text-align: right;\">\n",
       "      <th></th>\n",
       "      <th>Antecedent</th>\n",
       "      <th>Consequent</th>\n",
       "      <th>JointAntecedentQty</th>\n",
       "      <th>JointConsequentQty</th>\n",
       "      <th>SalesRatio</th>\n",
       "    </tr>\n",
       "  </thead>\n",
       "  <tbody>\n",
       "    <tr>\n",
       "      <th>15</th>\n",
       "      <td>0113</td>\n",
       "      <td>1598</td>\n",
       "      <td>0.333</td>\n",
       "      <td>1.0</td>\n",
       "      <td>3.003003</td>\n",
       "    </tr>\n",
       "    <tr>\n",
       "      <th>16</th>\n",
       "      <td>0113</td>\n",
       "      <td>0555</td>\n",
       "      <td>8.000</td>\n",
       "      <td>30.0</td>\n",
       "      <td>3.750000</td>\n",
       "    </tr>\n",
       "    <tr>\n",
       "      <th>17</th>\n",
       "      <td>0113</td>\n",
       "      <td>1802</td>\n",
       "      <td>1.080</td>\n",
       "      <td>3.0</td>\n",
       "      <td>2.777778</td>\n",
       "    </tr>\n",
       "  </tbody>\n",
       "</table>\n",
       "</div>"
      ],
      "text/plain": [
       "   Antecedent Consequent  JointAntecedentQty  JointConsequentQty  SalesRatio\n",
       "15       0113       1598               0.333                 1.0    3.003003\n",
       "16       0113       0555               8.000                30.0    3.750000\n",
       "17       0113       1802               1.080                 3.0    2.777778"
      ]
     },
     "execution_count": 68,
     "metadata": {},
     "output_type": "execute_result"
    }
   ],
   "source": [
    "joint_sales_ratio_df[joint_sales_ratio_df['Antecedent']=='0113']"
   ]
  },
  {
   "cell_type": "code",
   "execution_count": 63,
   "id": "9b756cfa",
   "metadata": {},
   "outputs": [],
   "source": [
    "top_4_per_product = top_4_per_product.merge(joint_sales_ratio_df, on=['Antecedent','Consequent'], how = 'left')\n"
   ]
  },
  {
   "cell_type": "code",
   "execution_count": null,
   "id": "bb73cab2",
   "metadata": {},
   "outputs": [],
   "source": []
  },
  {
   "cell_type": "code",
   "execution_count": 65,
   "id": "d76f1b1f",
   "metadata": {},
   "outputs": [],
   "source": [
    "top_4_per_product = top_4_per_product.drop(columns = ['JointAntecedentQty_x','JointAntecedentQty_y','JointConsequentQty_x', 'JointConsequentQty_y','SalesRatio_x','SalesRatio_y'], axis = 1)"
   ]
  },
  {
   "cell_type": "code",
   "execution_count": 67,
   "id": "509de554",
   "metadata": {},
   "outputs": [],
   "source": [
    "top_4_per_product.to_excel('final_basket.xlsx')"
   ]
  },
  {
   "cell_type": "code",
   "execution_count": null,
   "id": "db977956",
   "metadata": {},
   "outputs": [],
   "source": [
    "# how to optimize linear optimization with basket constraint"
   ]
  }
 ],
 "metadata": {
  "kernelspec": {
   "display_name": "Python 3",
   "language": "python",
   "name": "python3"
  },
  "language_info": {
   "codemirror_mode": {
    "name": "ipython",
    "version": 3
   },
   "file_extension": ".py",
   "mimetype": "text/x-python",
   "name": "python",
   "nbconvert_exporter": "python",
   "pygments_lexer": "ipython3",
   "version": "3.6.9"
  }
 },
 "nbformat": 4,
 "nbformat_minor": 5
}
